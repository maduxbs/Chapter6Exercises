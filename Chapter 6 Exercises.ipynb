{
 "cells": [
  {
   "cell_type": "markdown",
   "id": "012d1b79",
   "metadata": {},
   "source": [
    "## Algorithm Workbench (Any Two Questions)"
   ]
  },
  {
   "cell_type": "markdown",
   "id": "e8894a0a",
   "metadata": {},
   "source": [
    "## 4 Ex."
   ]
  },
  {
   "cell_type": "code",
   "execution_count": 1,
   "id": "bfbbaadc",
   "metadata": {},
   "outputs": [
    {
     "name": "stdout",
     "output_type": "stream",
     "text": [
      "File not found. Make sure you have created the 'numbers.txt' file.\n"
     ]
    }
   ],
   "source": [
    "# Open the file for reading\n",
    "try:\n",
    "    with open(\"numbers.txt\", \"r\") as file:\n",
    "        # Read all lines from the file\n",
    "        lines = file.readlines()\n",
    "\n",
    "        # Process each line (assuming each line contains a single number)\n",
    "        for line in lines:\n",
    "            # Convert the line (which is a string) to a number (integer or float)\n",
    "            try:\n",
    "                number = float(line)\n",
    "                print(\"Number read from file:\", number)\n",
    "            except ValueError:\n",
    "                print(\"Invalid number format in the file:\", line.strip())\n",
    "\n",
    "# Handle file not found or other errors\n",
    "except FileNotFoundError:\n",
    "    print(\"File not found. Make sure you have created the 'numbers.txt' file.\")\n",
    "except Exception as e:\n",
    "    print(\"An error occurred:\", str(e))"
   ]
  },
  {
   "cell_type": "markdown",
   "id": "71c4bae3",
   "metadata": {},
   "source": [
    "## 8 Ex. "
   ]
  },
  {
   "cell_type": "code",
   "execution_count": 2,
   "id": "9bebfdff",
   "metadata": {},
   "outputs": [
    {
     "name": "stdout",
     "output_type": "stream",
     "text": [
      "File not found. Make sure the file 'student_records.txt' exists.\n",
      "Julie Milan's score has been updated to 100.\n"
     ]
    }
   ],
   "source": [
    "# Define the filename\n",
    "filename = \"student_records.txt\"\n",
    "\n",
    "# Create a list to store modified records\n",
    "modified_records = []\n",
    "\n",
    "# Open the file for reading\n",
    "try:\n",
    "    with open(filename, \"r\") as file:\n",
    "        # Read each line (record) from the file\n",
    "        for line in file:\n",
    "            # Split the line into name and score\n",
    "            name, score = line.strip().split(',')\n",
    "            \n",
    "            # Check if it's Julie Milan's record\n",
    "            if name.strip() == \"Julie Milan\":\n",
    "                # Update the score to 100\n",
    "                score = \"100\"\n",
    "            \n",
    "            # Reconstruct the record with the updated score\n",
    "            modified_record = f\"{name.strip()}, {score}\"\n",
    "            \n",
    "            # Add the modified record to the list\n",
    "            modified_records.append(modified_record)\n",
    "\n",
    "# Handle file not found or other errors\n",
    "except FileNotFoundError:\n",
    "    print(\"File not found. Make sure the file 'student_records.txt' exists.\")\n",
    "except Exception as e:\n",
    "    print(\"An error occurred:\", str(e))\n",
    "\n",
    "# Open the file again for writing\n",
    "try:\n",
    "    with open(filename, \"w\") as file:\n",
    "        # Write the modified records back to the file\n",
    "        for record in modified_records:\n",
    "            file.write(record + \"\\n\")\n",
    "\n",
    "    print(\"Julie Milan's score has been updated to 100.\")\n",
    "\n",
    "# Handle file not found or other errors\n",
    "except Exception as e:\n",
    "    print(\"An error occurred while writing to the file:\", str(e))"
   ]
  },
  {
   "cell_type": "markdown",
   "id": "64820ac5",
   "metadata": {},
   "source": [
    "## Programming Exercises (Four Questions)\n"
   ]
  },
  {
   "cell_type": "markdown",
   "id": "a34d0266",
   "metadata": {},
   "source": [
    "## 1 Ex."
   ]
  },
  {
   "cell_type": "code",
   "execution_count": 3,
   "id": "6bb50546",
   "metadata": {},
   "outputs": [
    {
     "name": "stdout",
     "output_type": "stream",
     "text": [
      "File 'numbers.txt' not found. Make sure it exists.\n"
     ]
    }
   ],
   "source": [
    "# Define the filename\n",
    "filename = \"numbers.txt\"\n",
    "\n",
    "# Open the file for reading\n",
    "try:\n",
    "    with open(filename, \"r\") as file:\n",
    "        # Read each line from the file\n",
    "        for line in file:\n",
    "            # Try to convert the line to an integer\n",
    "            try:\n",
    "                number = int(line.strip())\n",
    "                print(\"Number:\", number)\n",
    "            except ValueError:\n",
    "                # Handle lines that are not valid integers\n",
    "                print(\"Invalid integer:\", line.strip())\n",
    "\n",
    "# Handle file not found or other errors\n",
    "except FileNotFoundError:\n",
    "    print(f\"File '{filename}' not found. Make sure it exists.\")\n",
    "except Exception as e:\n",
    "    print(\"An error occurred:\", str(e))"
   ]
  },
  {
   "cell_type": "markdown",
   "id": "57cf5738",
   "metadata": {},
   "source": [
    "## 6 Ex."
   ]
  },
  {
   "cell_type": "code",
   "execution_count": 5,
   "id": "3c4bfdff",
   "metadata": {},
   "outputs": [
    {
     "name": "stdout",
     "output_type": "stream",
     "text": [
      "File 'numbers.txt' not found. Make sure it exists.\n"
     ]
    }
   ],
   "source": [
    "# Define the filename\n",
    "filename = \"numbers.txt\"\n",
    "\n",
    "# Initialize variables for sum and count\n",
    "total_sum = 0\n",
    "count = 0\n",
    "\n",
    "# Open the file for reading\n",
    "try:\n",
    "    with open(filename, \"r\") as file:\n",
    "        # Read each line from the file\n",
    "        for line in file:\n",
    "            # Try to convert the line to an integer\n",
    "            try:\n",
    "                number = int(line.strip())\n",
    "                total_sum += number  # Add the number to the sum\n",
    "                count += 1          # Increment the count\n",
    "            except ValueError:\n",
    "                # Handle lines that are not valid integers\n",
    "                print(\"Invalid integer:\", line.strip())\n",
    "\n",
    "    # Calculate the average\n",
    "    if count > 0:\n",
    "        average = total_sum / count\n",
    "        print(f\"Average of {count} numbers is: {average:.2f}\")\n",
    "    else:\n",
    "        print(\"No valid integers found in the file.\")\n",
    "\n",
    "# Handle file not found or other errors\n",
    "except FileNotFoundError:\n",
    "    print(f\"File '{filename}' not found. Make sure it exists.\")\n",
    "except Exception as e:\n",
    "    print(\"An error occurred:\", str(e))"
   ]
  },
  {
   "cell_type": "markdown",
   "id": "68d0372e",
   "metadata": {},
   "source": [
    "## 9 Ex."
   ]
  },
  {
   "cell_type": "code",
   "execution_count": 6,
   "id": "00fa1887",
   "metadata": {},
   "outputs": [
    {
     "name": "stdout",
     "output_type": "stream",
     "text": [
      "Error: Unable to open or read file 'numbers.txt'\n"
     ]
    }
   ],
   "source": [
    "# Define the filename\n",
    "filename = \"numbers.txt\"\n",
    "\n",
    "# Initialize variables for sum and count\n",
    "total_sum = 0\n",
    "count = 0\n",
    "\n",
    "try:\n",
    "    # Open the file for reading\n",
    "    with open(filename, \"r\") as file:\n",
    "        # Read each line from the file\n",
    "        for line in file:\n",
    "            try:\n",
    "                # Try to convert the line to an integer\n",
    "                number = int(line.strip())\n",
    "                total_sum += number  # Add the number to the sum\n",
    "                count += 1          # Increment the count\n",
    "            except ValueError:\n",
    "                # Handle ValueError exceptions (invalid integers)\n",
    "                print(f\"Invalid integer on line '{line.strip()}'\")\n",
    "\n",
    "    # Calculate the average\n",
    "    if count > 0:\n",
    "        average = total_sum / count\n",
    "        print(f\"Average of {count} numbers is: {average:.2f}\")\n",
    "    else:\n",
    "        print(\"No valid integers found in the file.\")\n",
    "\n",
    "except IOError:\n",
    "    # Handle IOError exceptions (file not found or other file-related issues)\n",
    "    print(f\"Error: Unable to open or read file '{filename}'\")\n",
    "except Exception as e:\n",
    "    # Handle other exceptions\n",
    "    print(\"An error occurred:\", str(e))"
   ]
  },
  {
   "cell_type": "markdown",
   "id": "ecf9e521",
   "metadata": {},
   "source": [
    "## 12 Ex. "
   ]
  },
  {
   "cell_type": "code",
   "execution_count": 7,
   "id": "3d01fc91",
   "metadata": {},
   "outputs": [
    {
     "name": "stdout",
     "output_type": "stream",
     "text": [
      "File 'steps.txt' not found. Make sure it exists.\n"
     ]
    }
   ],
   "source": [
    "# Initialize a list to store monthly step totals\n",
    "monthly_totals = [0] * 12  # Assuming 0-based index for months\n",
    "\n",
    "# Define the number of days in each month\n",
    "days_in_month = [31, 28, 31, 30, 31, 30, 31, 31, 30, 31, 30, 31]\n",
    "\n",
    "# Open the file for reading\n",
    "try:\n",
    "    with open(\"steps.txt\", \"r\") as file:\n",
    "        # Read each line (number of steps for each day)\n",
    "        for line_number, line in enumerate(file, start=1):\n",
    "            try:\n",
    "                # Convert the line to an integer (number of steps)\n",
    "                steps = int(line.strip())\n",
    "                \n",
    "                # Calculate the month index (0-based) for the current day\n",
    "                month_index = (line_number - 1) // days_in_month[month_index]\n",
    "                \n",
    "                # Add the number of steps to the monthly total\n",
    "                monthly_totals[month_index] += steps\n",
    "            except ValueError:\n",
    "                print(f\"Invalid data on line {line_number}: {line.strip()}\")\n",
    "\n",
    "    # Calculate and display the average steps for each month\n",
    "    for month_index, total_steps in enumerate(monthly_totals):\n",
    "        month_name = [\n",
    "            \"January\", \"February\", \"March\", \"April\", \"May\", \"June\",\n",
    "            \"July\", \"August\", \"September\", \"October\", \"November\", \"December\"\n",
    "        ][month_index]\n",
    "        average_steps = total_steps / days_in_month[month_index]\n",
    "        print(f\"Average steps in {month_name}: {average_steps:.2f}\")\n",
    "\n",
    "except FileNotFoundError:\n",
    "    print(\"File 'steps.txt' not found. Make sure it exists.\")\n",
    "except Exception as e:\n",
    "    print(\"An error occurred:\", str(e))"
   ]
  }
 ],
 "metadata": {
  "kernelspec": {
   "display_name": "Python 3 (ipykernel)",
   "language": "python",
   "name": "python3"
  },
  "language_info": {
   "codemirror_mode": {
    "name": "ipython",
    "version": 3
   },
   "file_extension": ".py",
   "mimetype": "text/x-python",
   "name": "python",
   "nbconvert_exporter": "python",
   "pygments_lexer": "ipython3",
   "version": "3.11.4"
  }
 },
 "nbformat": 4,
 "nbformat_minor": 5
}
